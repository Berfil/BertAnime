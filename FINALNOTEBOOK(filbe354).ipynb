{
 "cells": [
  {
   "cell_type": "markdown",
   "id": "727a3466",
   "metadata": {},
   "source": [
    "BERT FOR REGRESSION "
   ]
  },
  {
   "cell_type": "code",
   "execution_count": 9,
   "id": "c5e71a63",
   "metadata": {},
   "outputs": [],
   "source": [
    "import pandas as pd\n",
    "import numpy as np\n",
    "import matplotlib.pyplot as plt\n",
    "import seaborn as sns \n",
    "import re\n",
    "import bz2\n",
    "import pandas as pd\n",
    "import spacy\n",
    "from sklearn.pipeline import Pipeline\n",
    "from sklearn.preprocessing import StandardScaler\n",
    "from sklearn.svm import SVC\n",
    "from sklearn.naive_bayes import MultinomialNB\n",
    "from sklearn.feature_extraction.text import CountVectorizer\n",
    "from sklearn.feature_extraction.text import TfidfTransformer\n",
    "from sklearn.metrics import mean_squared_error, r2_score, mean_squared_error, mean_absolute_error\n",
    "from sklearn.metrics import classification_report\n",
    "from sklearn.svm import SVC\n",
    "from sklearn.linear_model import LogisticRegression\n",
    "from sklearn.feature_extraction.text import TfidfVectorizer\n",
    "from sklearn.linear_model import SGDClassifier\n",
    "from sklearn.preprocessing import StandardScaler\n",
    "import torch, gc, random, datasets\n",
    "from sklearn.model_selection import train_test_split\n"
   ]
  },
  {
   "cell_type": "code",
   "execution_count": 10,
   "id": "055a87a6-32ff-4d1f-bae0-8d4dc5f46291",
   "metadata": {},
   "outputs": [],
   "source": [
    "from transformers import AutoTokenizer, AutoModelForSequenceClassification, Trainer, TrainingArguments"
   ]
  },
  {
   "cell_type": "code",
   "execution_count": 11,
   "id": "5e73f1fb",
   "metadata": {},
   "outputs": [],
   "source": [
    "## READ DATA\n",
    "df = pd.read_csv(\"animes.csv\")"
   ]
  },
  {
   "cell_type": "code",
   "execution_count": 12,
   "id": "07563a96",
   "metadata": {},
   "outputs": [],
   "source": [
    "df1  = df[['title', 'synopsis', 'genre' , \"score\"]].copy()"
   ]
  },
  {
   "cell_type": "code",
   "execution_count": 64,
   "id": "049b24f7-daa8-442f-8010-2a7fda66f779",
   "metadata": {},
   "outputs": [
    {
     "data": {
      "text/html": [
       "<div>\n",
       "<style scoped>\n",
       "    .dataframe tbody tr th:only-of-type {\n",
       "        vertical-align: middle;\n",
       "    }\n",
       "\n",
       "    .dataframe tbody tr th {\n",
       "        vertical-align: top;\n",
       "    }\n",
       "\n",
       "    .dataframe thead th {\n",
       "        text-align: right;\n",
       "    }\n",
       "</style>\n",
       "<table border=\"1\" class=\"dataframe\">\n",
       "  <thead>\n",
       "    <tr style=\"text-align: right;\">\n",
       "      <th></th>\n",
       "      <th>title</th>\n",
       "      <th>synopsis</th>\n",
       "      <th>genre</th>\n",
       "      <th>score</th>\n",
       "    </tr>\n",
       "  </thead>\n",
       "  <tbody>\n",
       "    <tr>\n",
       "      <th>0</th>\n",
       "      <td>Haikyuu!! Second Season</td>\n",
       "      <td>following their participation at the inter-hig...</td>\n",
       "      <td>['Comedy', 'Sports', 'Drama', 'School', 'Shoun...</td>\n",
       "      <td>8.82</td>\n",
       "    </tr>\n",
       "    <tr>\n",
       "      <th>1</th>\n",
       "      <td>Shigatsu wa Kimi no Uso</td>\n",
       "      <td>music accompanies the path of the human metron...</td>\n",
       "      <td>['Drama', 'Music', 'Romance', 'School', 'Shoun...</td>\n",
       "      <td>8.83</td>\n",
       "    </tr>\n",
       "    <tr>\n",
       "      <th>2</th>\n",
       "      <td>Made in Abyss</td>\n",
       "      <td>the abyss—a gaping chasm stretching down into ...</td>\n",
       "      <td>['Sci-Fi', 'Adventure', 'Mystery', 'Drama', 'F...</td>\n",
       "      <td>8.83</td>\n",
       "    </tr>\n",
       "    <tr>\n",
       "      <th>3</th>\n",
       "      <td>Fullmetal Alchemist: Brotherhood</td>\n",
       "      <td>\"in order for something to be obtained, someth...</td>\n",
       "      <td>['Action', 'Military', 'Adventure', 'Comedy', ...</td>\n",
       "      <td>9.23</td>\n",
       "    </tr>\n",
       "    <tr>\n",
       "      <th>4</th>\n",
       "      <td>Kizumonogatari III: Reiketsu-hen</td>\n",
       "      <td>after helping revive the legendary vampire kis...</td>\n",
       "      <td>['Action', 'Mystery', 'Supernatural', 'Vampire']</td>\n",
       "      <td>8.83</td>\n",
       "    </tr>\n",
       "  </tbody>\n",
       "</table>\n",
       "</div>"
      ],
      "text/plain": [
       "                              title  \\\n",
       "0           Haikyuu!! Second Season   \n",
       "1           Shigatsu wa Kimi no Uso   \n",
       "2                     Made in Abyss   \n",
       "3  Fullmetal Alchemist: Brotherhood   \n",
       "4  Kizumonogatari III: Reiketsu-hen   \n",
       "\n",
       "                                            synopsis  \\\n",
       "0  following their participation at the inter-hig...   \n",
       "1  music accompanies the path of the human metron...   \n",
       "2  the abyss—a gaping chasm stretching down into ...   \n",
       "3  \"in order for something to be obtained, someth...   \n",
       "4  after helping revive the legendary vampire kis...   \n",
       "\n",
       "                                               genre  score  \n",
       "0  ['Comedy', 'Sports', 'Drama', 'School', 'Shoun...   8.82  \n",
       "1  ['Drama', 'Music', 'Romance', 'School', 'Shoun...   8.83  \n",
       "2  ['Sci-Fi', 'Adventure', 'Mystery', 'Drama', 'F...   8.83  \n",
       "3  ['Action', 'Military', 'Adventure', 'Comedy', ...   9.23  \n",
       "4   ['Action', 'Mystery', 'Supernatural', 'Vampire']   8.83  "
      ]
     },
     "execution_count": 64,
     "metadata": {},
     "output_type": "execute_result"
    }
   ],
   "source": [
    "df1.head()"
   ]
  },
  {
   "cell_type": "code",
   "execution_count": 13,
   "id": "1bb2beaf-db28-47a2-abbd-5f6c0f1b4c3d",
   "metadata": {},
   "outputs": [
    {
     "name": "stdout",
     "output_type": "stream",
     "text": [
      "<class 'pandas.core.frame.DataFrame'>\n",
      "RangeIndex: 19311 entries, 0 to 19310\n",
      "Data columns (total 4 columns):\n",
      " #   Column    Non-Null Count  Dtype  \n",
      "---  ------    --------------  -----  \n",
      " 0   title     19311 non-null  object \n",
      " 1   synopsis  18336 non-null  object \n",
      " 2   genre     19311 non-null  object \n",
      " 3   score     18732 non-null  float64\n",
      "dtypes: float64(1), object(3)\n",
      "memory usage: 603.6+ KB\n"
     ]
    }
   ],
   "source": [
    "df1.info()"
   ]
  },
  {
   "cell_type": "code",
   "execution_count": 67,
   "id": "3b5ab11d-1b5e-48bf-9013-0b0babd6251f",
   "metadata": {},
   "outputs": [
    {
     "data": {
      "image/png": "[encoded data removed]",
      "text/plain": [
       "<Figure size 640x480 with 1 Axes>"
      ]
     },
     "metadata": {},
     "output_type": "display_data"
    }
   ],
   "source": [
    "## PLOT THE DISTRUBUTIO OF SCORES\n",
    "sns.set(style=\"darkgrid\")\n",
    "sns.kdeplot(df1['score'])\n",
    "plt.show()"
   ]
  },
  {
   "cell_type": "markdown",
   "id": "f9553fbe",
   "metadata": {},
   "source": [
    "Looking at the above plot, score distrubution looks approximately normal. "
   ]
  },
  {
   "cell_type": "code",
   "execution_count": 15,
   "id": "f21c00ca",
   "metadata": {},
   "outputs": [],
   "source": [
    "#fUNCTION TO CLEAN THE TEXT\n",
    "def cleantext(text):\n",
    "    \n",
    "    test1 = re.sub('\\r\\n', '', str(text)) \n",
    "    test1 = test1.lower()\n",
    " \n",
    "    \n",
    "    return test1"
   ]
  },
  {
   "cell_type": "code",
   "execution_count": 16,
   "id": "7480f244",
   "metadata": {},
   "outputs": [],
   "source": [
    "### clean the text in the data and split into X and Y\n",
    "df1['synopsis'] = df1['synopsis'].apply(lambda x : cleantext(x))\n",
    "df2=df1.dropna(subset=['score'])\n",
    "x = df2.synopsis\n",
    "y = df2.score\n",
    "\n",
    "test_size = 0.2"
   ]
  },
  {
   "cell_type": "code",
   "execution_count": 21,
   "id": "81fb3eb9",
   "metadata": {},
   "outputs": [],
   "source": [
    "### TRAIN TEST SPLIT \n",
    "X_train, X_test, y_train, y_test = train_test_split(x.tolist(), y, test_size=test_size)\n"
   ]
  },
  {
   "cell_type": "code",
   "execution_count": 22,
   "id": "9d0ea57f-0c02-4c9d-a4d7-20874445a1ef",
   "metadata": {},
   "outputs": [],
   "source": [
    "# SPLIT further into test and validation\n",
    "X_test, X_validation, y_test, y_validation = train_test_split(X_test, y_test, test_size=0.5)\n"
   ]
  },
  {
   "cell_type": "code",
   "execution_count": 23,
   "id": "0e0f8f50-573c-44c8-883b-08e13b9e46f3",
   "metadata": {},
   "outputs": [],
   "source": [
    "from transformers import BertTokenizer\n",
    "from transformers import AutoTokenizer"
   ]
  },
  {
   "cell_type": "code",
   "execution_count": 24,
   "id": "cf2cb181-3a0b-42bd-93a2-6e62d8b2564d",
   "metadata": {},
   "outputs": [],
   "source": [
    "### LOAD PRE-TRAINED MODEL AND PADD THE DATA\n",
    "tokenizer = BertTokenizer.from_pretrained(\"bert-base-uncased\")\n",
    "\n",
    "train_encoding = tokenizer(X_train, truncation=True, padding=True, max_length=512)\n",
    "val_encoding = tokenizer(X_validation, truncation=True, padding=True, max_length=512)\n",
    "test_encoding = tokenizer(X_test, truncation=True, padding=True, max_length=512)"
   ]
  },
  {
   "cell_type": "code",
   "execution_count": 25,
   "id": "f4deb686-01c7-4116-8b7b-e4eb2a01f7ce",
   "metadata": {},
   "outputs": [],
   "source": [
    "# Put the data into torch form , very cool indeed\n",
    "#\n",
    "class TorchData(torch.utils.data.Dataset):\n",
    "    def __init__(self, encodings, labels):\n",
    "        self.encodings = encodings\n",
    "        self.labels = labels\n",
    "\n",
    "    def __getitem__(self, idx):\n",
    "        item = {k: torch.tensor(v[idx]) for k, v in self.encodings.items()}\n",
    "        item[\"labels\"] = torch.tensor([self.labels[idx]])\n",
    "        item[\"labels\"] = float(item[\"labels\"])\n",
    "        return item\n",
    "\n",
    "    def __len__(self):\n",
    "        return len(self.labels)"
   ]
  },
  {
   "cell_type": "code",
   "execution_count": 26,
   "id": "31d6a551-03be-49e4-9e52-9787bc641787",
   "metadata": {},
   "outputs": [],
   "source": [
    "### Apply torch on all the data stuff\n",
    "trainDF = TorchData(train_encoding, y_train.ravel())\n",
    "ValDF = TorchData(val_encoding, y_validation.ravel())\n",
    "testDF = TorchData(test_encoding, y_test.ravel())"
   ]
  },
  {
   "cell_type": "code",
   "execution_count": 27,
   "id": "90dfd8a0-bfa2-4852-b716-187146220f34",
   "metadata": {},
   "outputs": [
    {
     "name": "stderr",
     "output_type": "stream",
     "text": [
      "Some weights of the model checkpoint at bert-base-uncased were not used when initializing BertForSequenceClassification: ['cls.predictions.decoder.weight', 'cls.seq_relationship.weight', 'cls.predictions.transform.LayerNorm.bias', 'cls.predictions.transform.dense.weight', 'cls.predictions.transform.dense.bias', 'cls.predictions.transform.LayerNorm.weight', 'cls.predictions.bias', 'cls.seq_relationship.bias']\n",
      "- This IS expected if you are initializing BertForSequenceClassification from the checkpoint of a model trained on another task or with another architecture (e.g. initializing a BertForSequenceClassification model from a BertForPreTraining model).\n",
      "- This IS NOT expected if you are initializing BertForSequenceClassification from the checkpoint of a model that you expect to be exactly identical (initializing a BertForSequenceClassification model from a BertForSequenceClassification model).\n",
      "Some weights of BertForSequenceClassification were not initialized from the model checkpoint at bert-base-uncased and are newly initialized: ['classifier.bias', 'classifier.weight']\n",
      "You should probably TRAIN this model on a down-stream task to be able to use it for predictions and inference.\n"
     ]
    }
   ],
   "source": [
    "## Set up model \n",
    "model = AutoModelForSequenceClassification.from_pretrained(\"bert-base-uncased\",  num_labels = 1)\n",
    "#.to(\"cuda\")"
   ]
  },
  {
   "cell_type": "code",
   "execution_count": 16,
   "id": "294edcb8-a84a-475b-971d-8fed21beedcf",
   "metadata": {},
   "outputs": [
    {
     "name": "stdout",
     "output_type": "stream",
     "text": [
      "model size: 417.652MB\n"
     ]
    }
   ],
   "source": [
    "## CHHECK SIZE OF MODEL \n",
    "param_size = 0\n",
    "for param in model.parameters():\n",
    "    param_size += param.nelement() * param.element_size()\n",
    "buffer_size = 0\n",
    "for buffer in model.buffers():\n",
    "    buffer_size += buffer.nelement() * buffer.element_size()\n",
    "\n",
    "size_all_mb = (param_size + buffer_size) / 1024**2\n",
    "print('model size: {:.3f}MB'.format(size_all_mb))\n"
   ]
  },
  {
   "cell_type": "code",
   "execution_count": 41,
   "id": "b5654eb3-2be6-488f-95a9-20c63e8104c5",
   "metadata": {},
   "outputs": [],
   "source": [
    "#CREATE EMPTY LISTS \n",
    "MSE_list = []\n",
    "rmse_list = []\n",
    "Mae_list = []\n",
    "r2_list = []\n"
   ]
  },
  {
   "cell_type": "code",
   "execution_count": 42,
   "id": "0bf31cfa-d387-4d73-a4b7-fb34c04f9b67",
   "metadata": {},
   "outputs": [],
   "source": [
    "# DEFINE METRIC FUNCTION\n",
    "\n",
    "def compute_metrics_for_regression(eval_pred):\n",
    "    logits, labels = eval_pred\n",
    "    labels = labels.reshape(-1, 1)\n",
    "\n",
    "    mse = mean_squared_error(labels, logits)\n",
    "    rmse = mean_squared_error(labels, logits, squared=False)\n",
    "    mae = mean_absolute_error(labels, logits)\n",
    "    r2 = r2_score(labels, logits)\n",
    "    smape = 1/len(labels) * np.sum(2 * np.abs(logits-labels) / (np.abs(labels) + np.abs(logits))*100)\n",
    "    MSE_list.append(mse)\n",
    "    rmse_list.append(rmse)\n",
    "    Mae_list.append(mae)\n",
    "    r2_list.append(r2)\n",
    "\n",
    "    \n",
    "    \n",
    "    \n",
    "\n",
    "    return {\"mse\": mse, \"rmse\": rmse, \"mae\": mae, \"r2\": r2, \"smape\": smape}"
   ]
  },
  {
   "cell_type": "code",
   "execution_count": 43,
   "id": "fa5a390c-afd1-4284-8c28-d51b91e40ce9",
   "metadata": {},
   "outputs": [
    {
     "name": "stderr",
     "output_type": "stream",
     "text": [
      "PyTorch: setting up devices\n",
      "The default value for the training argument `--report_to` will change in v5 (from all installed integrations to none). In v5, you will need to use `--report_to all` to get the same behavior as now. You should start updating your code and make this info disappear :-).\n"
     ]
    }
   ],
   "source": [
    "#DEFINE TRAINING ARGUMENTS \n",
    "training_args = TrainingArguments(\n",
    "    output_dir ='./results',          \n",
    "    num_train_epochs = 30,      \n",
    "    per_device_train_batch_size =1,   \n",
    "    per_device_eval_batch_size = 1,   \n",
    "    weight_decay = 0.01,               \n",
    "    learning_rate = 2e-5,\n",
    "    logging_dir = './logs',            \n",
    "    save_total_limit = 10,\n",
    "    load_best_model_at_end = True,     \n",
    "    metric_for_best_model = 'rmse',    \n",
    "    evaluation_strategy = \"epoch\",\n",
    "    save_strategy = \"epoch\",\n",
    ") \n",
    "# DEFINE TRAINING\n",
    "trainer = Trainer(\n",
    "    model = model,                         \n",
    "    args = training_args,                  \n",
    "    train_dataset = trainDF,         \n",
    "    eval_dataset = ValDF,          \n",
    "    compute_metrics = compute_metrics_for_regression,     \n",
    ")\n"
   ]
  },
  {
   "cell_type": "code",
   "execution_count": 44,
   "id": "4477944d-4e6d-41db-a69b-345fdc9e82b3",
   "metadata": {},
   "outputs": [
    {
     "name": "stderr",
     "output_type": "stream",
     "text": [
      "C:\\Users\\bernd\\miniconda3\\envs\\myenv\\lib\\site-packages\\transformers\\optimization.py:306: FutureWarning: This implementation of AdamW is deprecated and will be removed in a future version. Use the PyTorch implementation torch.optim.AdamW instead, or set `no_deprecation_warning=True` to disable this warning\n",
      "  warnings.warn(\n",
      "***** Running training *****\n",
      "  Num examples = 14985\n",
      "  Num Epochs = 30\n",
      "  Instantaneous batch size per device = 1\n",
      "  Total train batch size (w. parallel, distributed & accumulation) = 1\n",
      "  Gradient Accumulation steps = 1\n",
      "  Total optimization steps = 449550\n",
      "  Number of trainable parameters = 109483009\n"
     ]
    },
    {
     "data": {
      "text/html": [
       "\n",
       "    <div>\n",
       "      \n",
       "      <progress value='449550' max='449550' style='width:300px; height:20px; vertical-align: middle;'></progress>\n",
       "      [449550/449550 21:46:46, Epoch 30/30]\n",
       "    </div>\n",
       "    <table border=\"1\" class=\"dataframe\">\n",
       "  <thead>\n",
       " <tr style=\"text-align: left;\">\n",
       "      <th>Epoch</th>\n",
       "      <th>Training Loss</th>\n",
       "      <th>Validation Loss</th>\n",
       "      <th>Mse</th>\n",
       "      <th>Rmse</th>\n",
       "      <th>Mae</th>\n",
       "      <th>R2</th>\n",
       "      <th>Smape</th>\n",
       "    </tr>\n",
       "  </thead>\n",
       "  <tbody>\n",
       "    <tr>\n",
       "      <td>1</td>\n",
       "      <td>0.375100</td>\n",
       "      <td>0.527847</td>\n",
       "      <td>0.527847</td>\n",
       "      <td>0.726531</td>\n",
       "      <td>0.545163</td>\n",
       "      <td>0.486409</td>\n",
       "      <td>8.744805</td>\n",
       "    </tr>\n",
       "    <tr>\n",
       "      <td>2</td>\n",
       "      <td>0.362500</td>\n",
       "      <td>0.479136</td>\n",
       "      <td>0.479136</td>\n",
       "      <td>0.692197</td>\n",
       "      <td>0.517212</td>\n",
       "      <td>0.533804</td>\n",
       "      <td>8.344272</td>\n",
       "    </tr>\n",
       "    <tr>\n",
       "      <td>3</td>\n",
       "      <td>0.294100</td>\n",
       "      <td>0.483270</td>\n",
       "      <td>0.483270</td>\n",
       "      <td>0.695176</td>\n",
       "      <td>0.514883</td>\n",
       "      <td>0.529782</td>\n",
       "      <td>8.362081</td>\n",
       "    </tr>\n",
       "    <tr>\n",
       "      <td>4</td>\n",
       "      <td>0.202000</td>\n",
       "      <td>0.480769</td>\n",
       "      <td>0.480769</td>\n",
       "      <td>0.693375</td>\n",
       "      <td>0.499354</td>\n",
       "      <td>0.532215</td>\n",
       "      <td>8.090955</td>\n",
       "    </tr>\n",
       "    <tr>\n",
       "      <td>5</td>\n",
       "      <td>0.217700</td>\n",
       "      <td>0.551276</td>\n",
       "      <td>0.551276</td>\n",
       "      <td>0.742480</td>\n",
       "      <td>0.544725</td>\n",
       "      <td>0.463613</td>\n",
       "      <td>8.744833</td>\n",
       "    </tr>\n",
       "    <tr>\n",
       "      <td>6</td>\n",
       "      <td>0.174700</td>\n",
       "      <td>0.459764</td>\n",
       "      <td>0.459764</td>\n",
       "      <td>0.678059</td>\n",
       "      <td>0.490661</td>\n",
       "      <td>0.552653</td>\n",
       "      <td>7.969144</td>\n",
       "    </tr>\n",
       "    <tr>\n",
       "      <td>7</td>\n",
       "      <td>0.146700</td>\n",
       "      <td>0.539062</td>\n",
       "      <td>0.539062</td>\n",
       "      <td>0.734208</td>\n",
       "      <td>0.527224</td>\n",
       "      <td>0.475497</td>\n",
       "      <td>8.419352</td>\n",
       "    </tr>\n",
       "    <tr>\n",
       "      <td>8</td>\n",
       "      <td>0.132000</td>\n",
       "      <td>0.509154</td>\n",
       "      <td>0.509154</td>\n",
       "      <td>0.713550</td>\n",
       "      <td>0.513616</td>\n",
       "      <td>0.504597</td>\n",
       "      <td>8.322664</td>\n",
       "    </tr>\n",
       "    <tr>\n",
       "      <td>9</td>\n",
       "      <td>0.130400</td>\n",
       "      <td>0.454254</td>\n",
       "      <td>0.454254</td>\n",
       "      <td>0.673983</td>\n",
       "      <td>0.481517</td>\n",
       "      <td>0.558015</td>\n",
       "      <td>7.802208</td>\n",
       "    </tr>\n",
       "    <tr>\n",
       "      <td>10</td>\n",
       "      <td>0.121200</td>\n",
       "      <td>0.481684</td>\n",
       "      <td>0.481684</td>\n",
       "      <td>0.694034</td>\n",
       "      <td>0.492275</td>\n",
       "      <td>0.531325</td>\n",
       "      <td>8.003804</td>\n",
       "    </tr>\n",
       "    <tr>\n",
       "      <td>11</td>\n",
       "      <td>0.097900</td>\n",
       "      <td>0.447548</td>\n",
       "      <td>0.447548</td>\n",
       "      <td>0.668990</td>\n",
       "      <td>0.468128</td>\n",
       "      <td>0.564539</td>\n",
       "      <td>7.592414</td>\n",
       "    </tr>\n",
       "    <tr>\n",
       "      <td>12</td>\n",
       "      <td>0.081700</td>\n",
       "      <td>0.440874</td>\n",
       "      <td>0.440874</td>\n",
       "      <td>0.663984</td>\n",
       "      <td>0.464831</td>\n",
       "      <td>0.571033</td>\n",
       "      <td>7.584240</td>\n",
       "    </tr>\n",
       "    <tr>\n",
       "      <td>13</td>\n",
       "      <td>0.099300</td>\n",
       "      <td>0.431973</td>\n",
       "      <td>0.431973</td>\n",
       "      <td>0.657247</td>\n",
       "      <td>0.459152</td>\n",
       "      <td>0.579693</td>\n",
       "      <td>7.459448</td>\n",
       "    </tr>\n",
       "    <tr>\n",
       "      <td>14</td>\n",
       "      <td>0.079700</td>\n",
       "      <td>0.425005</td>\n",
       "      <td>0.425005</td>\n",
       "      <td>0.651924</td>\n",
       "      <td>0.453561</td>\n",
       "      <td>0.586473</td>\n",
       "      <td>7.386092</td>\n",
       "    </tr>\n",
       "    <tr>\n",
       "      <td>15</td>\n",
       "      <td>0.114700</td>\n",
       "      <td>0.434323</td>\n",
       "      <td>0.434323</td>\n",
       "      <td>0.659032</td>\n",
       "      <td>0.455289</td>\n",
       "      <td>0.577407</td>\n",
       "      <td>7.420605</td>\n",
       "    </tr>\n",
       "    <tr>\n",
       "      <td>16</td>\n",
       "      <td>0.068500</td>\n",
       "      <td>0.415787</td>\n",
       "      <td>0.415787</td>\n",
       "      <td>0.644815</td>\n",
       "      <td>0.446878</td>\n",
       "      <td>0.595442</td>\n",
       "      <td>7.299647</td>\n",
       "    </tr>\n",
       "    <tr>\n",
       "      <td>17</td>\n",
       "      <td>0.070500</td>\n",
       "      <td>0.448144</td>\n",
       "      <td>0.448144</td>\n",
       "      <td>0.669436</td>\n",
       "      <td>0.467794</td>\n",
       "      <td>0.563959</td>\n",
       "      <td>7.595918</td>\n",
       "    </tr>\n",
       "    <tr>\n",
       "      <td>18</td>\n",
       "      <td>0.079200</td>\n",
       "      <td>0.431591</td>\n",
       "      <td>0.431591</td>\n",
       "      <td>0.656956</td>\n",
       "      <td>0.452327</td>\n",
       "      <td>0.580065</td>\n",
       "      <td>7.370475</td>\n",
       "    </tr>\n",
       "    <tr>\n",
       "      <td>19</td>\n",
       "      <td>0.064300</td>\n",
       "      <td>0.424054</td>\n",
       "      <td>0.424054</td>\n",
       "      <td>0.651194</td>\n",
       "      <td>0.444475</td>\n",
       "      <td>0.587399</td>\n",
       "      <td>7.246763</td>\n",
       "    </tr>\n",
       "    <tr>\n",
       "      <td>20</td>\n",
       "      <td>0.099000</td>\n",
       "      <td>0.417414</td>\n",
       "      <td>0.417414</td>\n",
       "      <td>0.646076</td>\n",
       "      <td>0.446015</td>\n",
       "      <td>0.593860</td>\n",
       "      <td>7.305887</td>\n",
       "    </tr>\n",
       "    <tr>\n",
       "      <td>21</td>\n",
       "      <td>0.055600</td>\n",
       "      <td>0.431382</td>\n",
       "      <td>0.431382</td>\n",
       "      <td>0.656797</td>\n",
       "      <td>0.450805</td>\n",
       "      <td>0.580269</td>\n",
       "      <td>7.357753</td>\n",
       "    </tr>\n",
       "    <tr>\n",
       "      <td>22</td>\n",
       "      <td>0.053600</td>\n",
       "      <td>0.417422</td>\n",
       "      <td>0.417422</td>\n",
       "      <td>0.646082</td>\n",
       "      <td>0.442090</td>\n",
       "      <td>0.593852</td>\n",
       "      <td>7.229343</td>\n",
       "    </tr>\n",
       "    <tr>\n",
       "      <td>23</td>\n",
       "      <td>0.060900</td>\n",
       "      <td>0.413620</td>\n",
       "      <td>0.413620</td>\n",
       "      <td>0.643133</td>\n",
       "      <td>0.440337</td>\n",
       "      <td>0.597551</td>\n",
       "      <td>7.204077</td>\n",
       "    </tr>\n",
       "    <tr>\n",
       "      <td>24</td>\n",
       "      <td>0.053100</td>\n",
       "      <td>0.407910</td>\n",
       "      <td>0.407910</td>\n",
       "      <td>0.638678</td>\n",
       "      <td>0.434208</td>\n",
       "      <td>0.603107</td>\n",
       "      <td>7.112361</td>\n",
       "    </tr>\n",
       "    <tr>\n",
       "      <td>25</td>\n",
       "      <td>0.051500</td>\n",
       "      <td>0.415966</td>\n",
       "      <td>0.415966</td>\n",
       "      <td>0.644954</td>\n",
       "      <td>0.438362</td>\n",
       "      <td>0.595268</td>\n",
       "      <td>7.147695</td>\n",
       "    </tr>\n",
       "    <tr>\n",
       "      <td>26</td>\n",
       "      <td>0.075600</td>\n",
       "      <td>0.411498</td>\n",
       "      <td>0.411498</td>\n",
       "      <td>0.641481</td>\n",
       "      <td>0.434394</td>\n",
       "      <td>0.599616</td>\n",
       "      <td>7.082168</td>\n",
       "    </tr>\n",
       "    <tr>\n",
       "      <td>27</td>\n",
       "      <td>0.068100</td>\n",
       "      <td>0.422448</td>\n",
       "      <td>0.422448</td>\n",
       "      <td>0.649960</td>\n",
       "      <td>0.440076</td>\n",
       "      <td>0.588961</td>\n",
       "      <td>7.177362</td>\n",
       "    </tr>\n",
       "    <tr>\n",
       "      <td>28</td>\n",
       "      <td>0.038500</td>\n",
       "      <td>0.418930</td>\n",
       "      <td>0.418930</td>\n",
       "      <td>0.647248</td>\n",
       "      <td>0.435935</td>\n",
       "      <td>0.592384</td>\n",
       "      <td>7.124808</td>\n",
       "    </tr>\n",
       "    <tr>\n",
       "      <td>29</td>\n",
       "      <td>0.044800</td>\n",
       "      <td>0.416078</td>\n",
       "      <td>0.416078</td>\n",
       "      <td>0.645041</td>\n",
       "      <td>0.432318</td>\n",
       "      <td>0.595159</td>\n",
       "      <td>7.070900</td>\n",
       "    </tr>\n",
       "    <tr>\n",
       "      <td>30</td>\n",
       "      <td>0.071300</td>\n",
       "      <td>0.418848</td>\n",
       "      <td>0.418848</td>\n",
       "      <td>0.647184</td>\n",
       "      <td>0.434447</td>\n",
       "      <td>0.592464</td>\n",
       "      <td>7.097547</td>\n",
       "    </tr>\n",
       "  </tbody>\n",
       "</table><p>"
      ],
      "text/plain": [
       "<IPython.core.display.HTML object>"
      ]
     },
     "metadata": {},
     "output_type": "display_data"
    },
    {
     "name": "stderr",
     "output_type": "stream",
     "text": [
      "***** Running Evaluation *****\n",
      "  Num examples = 1874\n",
      "  Batch size = 1\n",
      "Saving model checkpoint to ./results\\checkpoint-14985\n",
      "Configuration saved in ./results\\checkpoint-14985\\config.json\n",
      "Model weights saved in ./results\\checkpoint-14985\\pytorch_model.bin\n",
      "***** Running Evaluation *****\n",
      "  Num examples = 1874\n",
      "  Batch size = 1\n",
      "Saving model checkpoint to ./results\\checkpoint-29970\n",
      "Configuration saved in ./results\\checkpoint-29970\\config.json\n",
      "Model weights saved in ./results\\checkpoint-29970\\pytorch_model.bin\n",
      "***** Running Evaluation *****\n",
      "  Num examples = 1874\n",
      "  Batch size = 1\n",
      "Saving model checkpoint to ./results\\checkpoint-44955\n",
      "Configuration saved in ./results\\checkpoint-44955\\config.json\n",
      "Model weights saved in ./results\\checkpoint-44955\\pytorch_model.bin\n",
      "***** Running Evaluation *****\n",
      "  Num examples = 1874\n",
      "  Batch size = 1\n",
      "Saving model checkpoint to ./results\\checkpoint-59940\n",
      "Configuration saved in ./results\\checkpoint-59940\\config.json\n",
      "Model weights saved in ./results\\checkpoint-59940\\pytorch_model.bin\n",
      "***** Running Evaluation *****\n",
      "  Num examples = 1874\n",
      "  Batch size = 1\n",
      "Saving model checkpoint to ./results\\checkpoint-74925\n",
      "Configuration saved in ./results\\checkpoint-74925\\config.json\n",
      "Model weights saved in ./results\\checkpoint-74925\\pytorch_model.bin\n",
      "***** Running Evaluation *****\n",
      "  Num examples = 1874\n",
      "  Batch size = 1\n",
      "Saving model checkpoint to ./results\\checkpoint-89910\n",
      "Configuration saved in ./results\\checkpoint-89910\\config.json\n",
      "Model weights saved in ./results\\checkpoint-89910\\pytorch_model.bin\n",
      "***** Running Evaluation *****\n",
      "  Num examples = 1874\n",
      "  Batch size = 1\n",
      "Saving model checkpoint to ./results\\checkpoint-104895\n",
      "Configuration saved in ./results\\checkpoint-104895\\config.json\n",
      "Model weights saved in ./results\\checkpoint-104895\\pytorch_model.bin\n",
      "***** Running Evaluation *****\n",
      "  Num examples = 1874\n",
      "  Batch size = 1\n",
      "Saving model checkpoint to ./results\\checkpoint-119880\n",
      "Configuration saved in ./results\\checkpoint-119880\\config.json\n",
      "Model weights saved in ./results\\checkpoint-119880\\pytorch_model.bin\n",
      "***** Running Evaluation *****\n",
      "  Num examples = 1874\n",
      "  Batch size = 1\n",
      "Saving model checkpoint to ./results\\checkpoint-134865\n",
      "Configuration saved in ./results\\checkpoint-134865\\config.json\n",
      "Model weights saved in ./results\\checkpoint-134865\\pytorch_model.bin\n",
      "***** Running Evaluation *****\n",
      "  Num examples = 1874\n",
      "  Batch size = 1\n",
      "Saving model checkpoint to ./results\\checkpoint-149850\n",
      "Configuration saved in ./results\\checkpoint-149850\\config.json\n",
      "Model weights saved in ./results\\checkpoint-149850\\pytorch_model.bin\n",
      "***** Running Evaluation *****\n",
      "  Num examples = 1874\n",
      "  Batch size = 1\n",
      "Saving model checkpoint to ./results\\checkpoint-164835\n",
      "Configuration saved in ./results\\checkpoint-164835\\config.json\n",
      "Model weights saved in ./results\\checkpoint-164835\\pytorch_model.bin\n",
      "Deleting older checkpoint [results\\checkpoint-14985] due to args.save_total_limit\n",
      "***** Running Evaluation *****\n",
      "  Num examples = 1874\n",
      "  Batch size = 1\n",
      "Saving model checkpoint to ./results\\checkpoint-179820\n",
      "Configuration saved in ./results\\checkpoint-179820\\config.json\n",
      "Model weights saved in ./results\\checkpoint-179820\\pytorch_model.bin\n",
      "Deleting older checkpoint [results\\checkpoint-29970] due to args.save_total_limit\n",
      "***** Running Evaluation *****\n",
      "  Num examples = 1874\n",
      "  Batch size = 1\n",
      "Saving model checkpoint to ./results\\checkpoint-194805\n",
      "Configuration saved in ./results\\checkpoint-194805\\config.json\n",
      "Model weights saved in ./results\\checkpoint-194805\\pytorch_model.bin\n",
      "Deleting older checkpoint [results\\checkpoint-44955] due to args.save_total_limit\n",
      "***** Running Evaluation *****\n",
      "  Num examples = 1874\n",
      "  Batch size = 1\n",
      "Saving model checkpoint to ./results\\checkpoint-209790\n",
      "Configuration saved in ./results\\checkpoint-209790\\config.json\n",
      "Model weights saved in ./results\\checkpoint-209790\\pytorch_model.bin\n",
      "Deleting older checkpoint [results\\checkpoint-59940] due to args.save_total_limit\n",
      "***** Running Evaluation *****\n",
      "  Num examples = 1874\n",
      "  Batch size = 1\n",
      "Saving model checkpoint to ./results\\checkpoint-224775\n",
      "Configuration saved in ./results\\checkpoint-224775\\config.json\n",
      "Model weights saved in ./results\\checkpoint-224775\\pytorch_model.bin\n",
      "Deleting older checkpoint [results\\checkpoint-89910] due to args.save_total_limit\n",
      "***** Running Evaluation *****\n",
      "  Num examples = 1874\n",
      "  Batch size = 1\n",
      "Saving model checkpoint to ./results\\checkpoint-239760\n",
      "Configuration saved in ./results\\checkpoint-239760\\config.json\n",
      "Model weights saved in ./results\\checkpoint-239760\\pytorch_model.bin\n",
      "Deleting older checkpoint [results\\checkpoint-104895] due to args.save_total_limit\n",
      "***** Running Evaluation *****\n",
      "  Num examples = 1874\n",
      "  Batch size = 1\n",
      "Saving model checkpoint to ./results\\checkpoint-254745\n",
      "Configuration saved in ./results\\checkpoint-254745\\config.json\n",
      "Model weights saved in ./results\\checkpoint-254745\\pytorch_model.bin\n",
      "Deleting older checkpoint [results\\checkpoint-119880] due to args.save_total_limit\n",
      "***** Running Evaluation *****\n",
      "  Num examples = 1874\n",
      "  Batch size = 1\n",
      "Saving model checkpoint to ./results\\checkpoint-269730\n",
      "Configuration saved in ./results\\checkpoint-269730\\config.json\n",
      "Model weights saved in ./results\\checkpoint-269730\\pytorch_model.bin\n",
      "Deleting older checkpoint [results\\checkpoint-134865] due to args.save_total_limit\n",
      "***** Running Evaluation *****\n",
      "  Num examples = 1874\n",
      "  Batch size = 1\n",
      "Saving model checkpoint to ./results\\checkpoint-284715\n",
      "Configuration saved in ./results\\checkpoint-284715\\config.json\n",
      "Model weights saved in ./results\\checkpoint-284715\\pytorch_model.bin\n",
      "Deleting older checkpoint [results\\checkpoint-149850] due to args.save_total_limit\n",
      "***** Running Evaluation *****\n",
      "  Num examples = 1874\n",
      "  Batch size = 1\n",
      "Saving model checkpoint to ./results\\checkpoint-299700\n",
      "Configuration saved in ./results\\checkpoint-299700\\config.json\n",
      "Model weights saved in ./results\\checkpoint-299700\\pytorch_model.bin\n",
      "Deleting older checkpoint [results\\checkpoint-164835] due to args.save_total_limit\n",
      "***** Running Evaluation *****\n",
      "  Num examples = 1874\n",
      "  Batch size = 1\n",
      "Saving model checkpoint to ./results\\checkpoint-314685\n",
      "Configuration saved in ./results\\checkpoint-314685\\config.json\n",
      "Model weights saved in ./results\\checkpoint-314685\\pytorch_model.bin\n",
      "Deleting older checkpoint [results\\checkpoint-179820] due to args.save_total_limit\n",
      "***** Running Evaluation *****\n",
      "  Num examples = 1874\n",
      "  Batch size = 1\n",
      "Saving model checkpoint to ./results\\checkpoint-329670\n",
      "Configuration saved in ./results\\checkpoint-329670\\config.json\n",
      "Model weights saved in ./results\\checkpoint-329670\\pytorch_model.bin\n",
      "Deleting older checkpoint [results\\checkpoint-194805] due to args.save_total_limit\n",
      "***** Running Evaluation *****\n",
      "  Num examples = 1874\n",
      "  Batch size = 1\n",
      "Saving model checkpoint to ./results\\checkpoint-344655\n",
      "Configuration saved in ./results\\checkpoint-344655\\config.json\n",
      "Model weights saved in ./results\\checkpoint-344655\\pytorch_model.bin\n",
      "Deleting older checkpoint [results\\checkpoint-209790] due to args.save_total_limit\n",
      "***** Running Evaluation *****\n",
      "  Num examples = 1874\n",
      "  Batch size = 1\n",
      "Saving model checkpoint to ./results\\checkpoint-359640\n",
      "Configuration saved in ./results\\checkpoint-359640\\config.json\n",
      "Model weights saved in ./results\\checkpoint-359640\\pytorch_model.bin\n",
      "Deleting older checkpoint [results\\checkpoint-224775] due to args.save_total_limit\n",
      "***** Running Evaluation *****\n",
      "  Num examples = 1874\n",
      "  Batch size = 1\n",
      "Saving model checkpoint to ./results\\checkpoint-374625\n",
      "Configuration saved in ./results\\checkpoint-374625\\config.json\n",
      "Model weights saved in ./results\\checkpoint-374625\\pytorch_model.bin\n",
      "Deleting older checkpoint [results\\checkpoint-239760] due to args.save_total_limit\n",
      "***** Running Evaluation *****\n",
      "  Num examples = 1874\n",
      "  Batch size = 1\n",
      "Saving model checkpoint to ./results\\checkpoint-389610\n",
      "Configuration saved in ./results\\checkpoint-389610\\config.json\n",
      "Model weights saved in ./results\\checkpoint-389610\\pytorch_model.bin\n",
      "Deleting older checkpoint [results\\checkpoint-254745] due to args.save_total_limit\n",
      "***** Running Evaluation *****\n",
      "  Num examples = 1874\n",
      "  Batch size = 1\n",
      "Saving model checkpoint to ./results\\checkpoint-404595\n",
      "Configuration saved in ./results\\checkpoint-404595\\config.json\n",
      "Model weights saved in ./results\\checkpoint-404595\\pytorch_model.bin\n",
      "Deleting older checkpoint [results\\checkpoint-269730] due to args.save_total_limit\n",
      "***** Running Evaluation *****\n",
      "  Num examples = 1874\n",
      "  Batch size = 1\n",
      "Saving model checkpoint to ./results\\checkpoint-419580\n",
      "Configuration saved in ./results\\checkpoint-419580\\config.json\n",
      "Model weights saved in ./results\\checkpoint-419580\\pytorch_model.bin\n",
      "Deleting older checkpoint [results\\checkpoint-284715] due to args.save_total_limit\n",
      "***** Running Evaluation *****\n",
      "  Num examples = 1874\n",
      "  Batch size = 1\n",
      "Saving model checkpoint to ./results\\checkpoint-434565\n",
      "Configuration saved in ./results\\checkpoint-434565\\config.json\n",
      "Model weights saved in ./results\\checkpoint-434565\\pytorch_model.bin\n",
      "Deleting older checkpoint [results\\checkpoint-299700] due to args.save_total_limit\n",
      "***** Running Evaluation *****\n",
      "  Num examples = 1874\n",
      "  Batch size = 1\n",
      "Saving model checkpoint to ./results\\checkpoint-449550\n",
      "Configuration saved in ./results\\checkpoint-449550\\config.json\n",
      "Model weights saved in ./results\\checkpoint-449550\\pytorch_model.bin\n",
      "Deleting older checkpoint [results\\checkpoint-314685] due to args.save_total_limit\n",
      "\n",
      "\n",
      "Training completed. Do not forget to share your model on huggingface.co/models =)\n",
      "\n",
      "\n",
      "Loading best model from ./results\\checkpoint-74925 (score: 0.7424795031547546).\n",
      "***** Running Evaluation *****\n",
      "  Num examples = 1874\n",
      "  Batch size = 1\n"
     ]
    },
    {
     "data": {
      "text/html": [
       "\n",
       "    <div>\n",
       "      \n",
       "      <progress value='2850' max='1874' style='width:300px; height:20px; vertical-align: middle;'></progress>\n",
       "      [1874/1874 3:04:03]\n",
       "    </div>\n",
       "    "
      ],
      "text/plain": [
       "<IPython.core.display.HTML object>"
      ]
     },
     "metadata": {},
     "output_type": "display_data"
    },
    {
     "data": {
      "text/plain": [
       "{'eval_loss': 0.5512757897377014,\n",
       " 'eval_mse': 0.5512757897377014,\n",
       " 'eval_rmse': 0.7424795031547546,\n",
       " 'eval_mae': 0.5447254180908203,\n",
       " 'eval_r2': 0.4636127955656115,\n",
       " 'eval_smape': 8.744832660752401,\n",
       " 'eval_runtime': 31.144,\n",
       " 'eval_samples_per_second': 60.172,\n",
       " 'eval_steps_per_second': 60.172,\n",
       " 'epoch': 30.0}"
      ]
     },
     "execution_count": 44,
     "metadata": {},
     "output_type": "execute_result"
    }
   ],
   "source": [
    "# TRAIN MODEL\n",
    "trainer.train()\n",
    "\n",
    "# Call SUMMARY\n",
    "trainer.evaluate()"
   ]
  },
  {
   "cell_type": "code",
   "execution_count": null,
   "id": "20705635-278d-47cd-a793-49183737610e",
   "metadata": {},
   "outputs": [],
   "source": []
  },
  {
   "cell_type": "code",
   "execution_count": 131,
   "id": "0373504d-4ede-49e8-8ce5-0a33460ed53c",
   "metadata": {},
   "outputs": [],
   "source": [
    "#MANUALLY SAVE THE TRAINING AND VALIDATION LOSS FOR PLOTS\n",
    "training_loss = [0.375100, 0.362500 , 0.294100 , 0.202000, 0.217700, 0.174700 , 0.146700 , 0.132000 ,  0.130400, 0.121200 , 0.097900 , 0.081700, 0.099300 , 0.079700 , 0.114700 ,0.068500 , 0.070500 , 0.079200 , 0.064300 , 0.099000 , 0.055600 , 0.053600, 0.060900,0.053100 , 0.051500 , 0.075600 , 0.068100 , 0.038500, 0.044800 , 0.071300 ]\n",
    "validation_loss = [0.527847 , 0.479136 , 0.483270 , 0.480769 , 0.551276 , 0.459764 , 0.539062 , 0.509154 , 0.454254 , 0.481684 , 0.447548 , 0.440874 , 0.431973 , 0.425005 , 0.434323 , 0.415787 , 0.448144 , 0.431591 , 0.424054 , 0.417414 , 0.431382 , 0.417422 , 0.413620 , 0.407910 , 0.415966 , 0.411498 , 0.422448 , 0.418930, 0.416078  , 0.418848] \n",
    "plotDF = pd.DataFrame({\"TrainingLoss\" :  training_loss , \"ValidationLoss\" : validation_loss })\n",
    "plotDF[\"Epochs\"] = range(1,31)\n",
    "plotDF[\"MSE\"] = MSE_list[2:]\n",
    "plotDF[\"RMSE\"] = rmse_list[2:]\n",
    "plotDF[\"MAE\"] = Mae_list[2:]\n",
    "plotDF[\"R2\"] = r2_list[2:]"
   ]
  },
  {
   "cell_type": "code",
   "execution_count": 123,
   "id": "0d0a2f40-c739-4d4d-ad39-b1e50aa85684",
   "metadata": {},
   "outputs": [
    {
     "data": {
      "text/plain": [
       "<AxesSubplot: >"
      ]
     },
     "execution_count": 123,
     "metadata": {},
     "output_type": "execute_result"
    },
    {
     "data": {
      "image/png": "[encoded data removed]",
      "text/plain": [
       "<Figure size 640x480 with 1 Axes>"
      ]
     },
     "metadata": {},
     "output_type": "display_data"
    }
   ],
   "source": [
    "#PLOT\n",
    "sns.lineplot(data=plotDF[['TrainingLoss', 'ValidationLoss']])\n"
   ]
  },
  {
   "cell_type": "code",
   "execution_count": 132,
   "id": "be784f69-2c77-4702-8cd3-f2ba389366f5",
   "metadata": {},
   "outputs": [
    {
     "data": {
      "text/plain": [
       "<AxesSubplot: >"
      ]
     },
     "execution_count": 132,
     "metadata": {},
     "output_type": "execute_result"
    },
    {
     "data": {
      "image/png": "[encoded data removed]",
      "text/plain": [
       "<Figure size 640x480 with 1 Axes>"
      ]
     },
     "metadata": {},
     "output_type": "display_data"
    }
   ],
   "source": [
    "#plot\n",
    "sns.lineplot(data=plotDF[['MSE', 'RMSE' , \"MAE\" , \"R2\" ]])\n"
   ]
  },
  {
   "cell_type": "code",
   "execution_count": null,
   "id": "9a309416-4550-40ed-b396-d79bc485e745",
   "metadata": {},
   "outputs": [
    {
     "name": "stderr",
     "output_type": "stream",
     "text": [
      "***** Running Prediction *****\n",
      "  Num examples = 1873\n",
      "  Batch size = 1\n"
     ]
    }
   ],
   "source": [
    "pred1 = trainer.predict(testDF)"
   ]
  },
  {
   "cell_type": "code",
   "execution_count": 144,
   "id": "723c1356-c7ec-4919-8c94-aa62965e1a6e",
   "metadata": {},
   "outputs": [],
   "source": [
    "predictions = np.array(pred1[0])"
   ]
  },
  {
   "cell_type": "code",
   "execution_count": 150,
   "id": "625a4b97-8607-4339-9902-3c9cb13cc415",
   "metadata": {},
   "outputs": [],
   "source": [
    "test1 = np.array(y_test)"
   ]
  },
  {
   "cell_type": "code",
   "execution_count": 161,
   "id": "bee51fc8-d67e-4951-bffc-c66d5526139d",
   "metadata": {},
   "outputs": [],
   "source": [
    "y_Test = np.array( np.expand_dims(test1, axis=1).shape)"
   ]
  },
  {
   "cell_type": "code",
   "execution_count": 208,
   "id": "49e83571-baa8-435d-bd1f-e0c57bc2880c",
   "metadata": {},
   "outputs": [
    {
     "data": {
      "text/plain": [
       "0.5413168127263185"
      ]
     },
     "execution_count": 208,
     "metadata": {},
     "output_type": "execute_result"
    }
   ],
   "source": [
    "test123 = np.array(y_test)\n",
    "predTest = np.squeeze(predictions)\n",
    "np.sum(np.square(test123 - predTest))/len(predictions)"
   ]
  },
  {
   "cell_type": "code",
   "execution_count": 236,
   "id": "e29e5e97-1214-44de-88b6-581f2d17b176",
   "metadata": {},
   "outputs": [
    {
     "data": {
      "text/plain": [
       "0.5413168127263185"
      ]
     },
     "execution_count": 236,
     "metadata": {},
     "output_type": "execute_result"
    }
   ],
   "source": [
    "mean_squared_error(test123 , predTest  )"
   ]
  },
  {
   "cell_type": "code",
   "execution_count": 210,
   "id": "f537eae2-5953-456c-84c8-359ed1440687",
   "metadata": {},
   "outputs": [
    {
     "data": {
      "text/plain": [
       "0.7357423548541422"
      ]
     },
     "execution_count": 210,
     "metadata": {},
     "output_type": "execute_result"
    }
   ],
   "source": [
    "mean_squared_error(test123 , predTest , squared =False )"
   ]
  },
  {
   "cell_type": "code",
   "execution_count": 211,
   "id": "cc904028-eea5-4f65-be43-102b7e0a1bef",
   "metadata": {},
   "outputs": [
    {
     "data": {
      "text/plain": [
       "0.5473752143786543"
      ]
     },
     "execution_count": 211,
     "metadata": {},
     "output_type": "execute_result"
    }
   ],
   "source": [
    "mean_absolute_error(test123 , predTest  )"
   ]
  },
  {
   "cell_type": "code",
   "execution_count": 212,
   "id": "d4c87281-9487-4893-8b58-72903d91c45e",
   "metadata": {},
   "outputs": [
    {
     "data": {
      "text/plain": [
       "0.46478018811110033"
      ]
     },
     "execution_count": 212,
     "metadata": {},
     "output_type": "execute_result"
    }
   ],
   "source": [
    "r2_score(test123, predTest )\n"
   ]
  },
  {
   "cell_type": "code",
   "execution_count": 215,
   "id": "88b68085-b2b5-4e03-b1be-00dec7333721",
   "metadata": {},
   "outputs": [],
   "source": [
    "Ymean = np.mean(y_train) "
   ]
  },
  {
   "cell_type": "code",
   "execution_count": 230,
   "id": "8e8da37e-af48-4981-87dd-1464a36ed2a0",
   "metadata": {},
   "outputs": [],
   "source": [
    "yMeanVec = np.full(shape=len(test123), fill_value=Ymean)"
   ]
  },
  {
   "cell_type": "code",
   "execution_count": 216,
   "id": "4bf2c4c0-ca51-4d86-8d73-83af23e606d5",
   "metadata": {},
   "outputs": [
    {
     "data": {
      "text/plain": [
       "1.0149098535254424"
      ]
     },
     "execution_count": 216,
     "metadata": {},
     "output_type": "execute_result"
    }
   ],
   "source": [
    "##### BASELIIIIIIINES \n",
    "np.sum(np.square(test123 - Ymean))/len(predictions)"
   ]
  },
  {
   "cell_type": "code",
   "execution_count": 233,
   "id": "5e229421-2259-4378-b1de-fb0a0be4ab6e",
   "metadata": {},
   "outputs": [
    {
     "data": {
      "text/plain": [
       "1.007427344042955"
      ]
     },
     "execution_count": 233,
     "metadata": {},
     "output_type": "execute_result"
    }
   ],
   "source": [
    "mean_squared_error(test123 , yMeanVec , squared =False )"
   ]
  },
  {
   "cell_type": "code",
   "execution_count": 234,
   "id": "dc3ed22e-3f72-4b3c-917a-ec2312759d71",
   "metadata": {},
   "outputs": [
    {
     "data": {
      "text/plain": [
       "0.7943936942815747"
      ]
     },
     "execution_count": 234,
     "metadata": {},
     "output_type": "execute_result"
    }
   ],
   "source": [
    "mean_absolute_error(test123 , yMeanVec  )"
   ]
  },
  {
   "cell_type": "code",
   "execution_count": 235,
   "id": "7de428f3-e80f-4248-b46c-0d90189f3e88",
   "metadata": {},
   "outputs": [
    {
     "data": {
      "text/plain": [
       "-0.003478643407130999"
      ]
     },
     "execution_count": 235,
     "metadata": {},
     "output_type": "execute_result"
    }
   ],
   "source": [
    "r2_score(test123, yMeanVec )\n"
   ]
  }
 ],
 "metadata": {
  "kernelspec": {
   "display_name": "Python 3 (ipykernel)",
   "language": "python",
   "name": "python3"
  },
  "language_info": {
   "codemirror_mode": {
    "name": "ipython",
    "version": 3
   },
   "file_extension": ".py",
   "mimetype": "text/x-python",
   "name": "python",
   "nbconvert_exporter": "python",
   "pygments_lexer": "ipython3",
   "version": "3.9.13"
  }
 },
 "nbformat": 4,
 "nbformat_minor": 5
}
